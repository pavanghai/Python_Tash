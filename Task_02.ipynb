{
  "nbformat": 4,
  "nbformat_minor": 0,
  "metadata": {
    "colab": {
      "name": "Task_02.ipynb",
      "provenance": [],
      "collapsed_sections": [
        "TUHx1jhb_nSg",
        "HxljGOXEMmZy",
        "SsWH94lZMmIa"
      ],
      "authorship_tag": "ABX9TyO/kyUD+OtxE+qQJsqxz+6m",
      "include_colab_link": true
    },
    "kernelspec": {
      "name": "python3",
      "display_name": "Python 3"
    }
  },
  "cells": [
    {
      "cell_type": "markdown",
      "metadata": {
        "id": "view-in-github",
        "colab_type": "text"
      },
      "source": [
        "<a href=\"https://colab.research.google.com/github/pavanghai/Python_Tash/blob/master/Task_02.ipynb\" target=\"_parent\"><img src=\"https://colab.research.google.com/assets/colab-badge.svg\" alt=\"Open In Colab\"/></a>"
      ]
    },
    {
      "cell_type": "markdown",
      "metadata": {
        "id": "2SBSpl___nnY",
        "colab_type": "text"
      },
      "source": [
        "### TASK TWO: OPERATORS AND DECISION-MAKING STATEMENT"
      ]
    },
    {
      "cell_type": "markdown",
      "metadata": {
        "id": "TUHx1jhb_nSg",
        "colab_type": "text"
      },
      "source": [
        "#### **1 to 8 already done **\n",
        "9. Read the two parts of the question below: \n",
        " Write a program such that it asks users to “guess the lucky number”. If the correct number is guessed the program stops, otherwise it continues forever. \n",
        "Modify the program so that it asks users whether they want to guess again each time. Use two variables, ‘number’ for the number and ‘answer’ for the answer to the question of whether they want to continue guessing. The program stops if the user guesses the correct number or answers “no”. ( The program continues as long as a user has not answered “no” and has not guessed the correct number)\n"
      ]
    },
    {
      "cell_type": "code",
      "metadata": {
        "id": "Z_XYDQNRGuMF",
        "colab_type": "code",
        "colab": {
          "base_uri": "https://localhost:8080/",
          "height": 173
        },
        "outputId": "b0e12c8d-56c4-444c-a9a6-42781628aa58"
      },
      "source": [
        "t0209_luckyNum = 3\n",
        "t0209_guessNum = input (\"Guess the lucky number :\")\n",
        "i=1\n",
        "while True:\n",
        "  if t0209_guessNum == str(t0209_luckyNum):\n",
        "    print (\"Good guess\")\n",
        "    break\n",
        "  elif t0209_guessNum !=str(t0209_luckyNum):\n",
        "    t0209_tryAgain = input(\"wrong guess, try again \")\n",
        "    if t0209_tryAgain == str(t0209_luckyNum):\n",
        "      print (\"Good guess\")\n",
        "      break\n",
        "    elif t0209_tryAgain in ['no', 'No', 'Nope', 'nope']:\n",
        "      print (\"Thanks for playing...\")\n",
        "      break\n",
        "  # i+=1\n",
        "  # if i>=5:\n",
        "  #   print (\"You already tried for\", i, \"times, Game over\")\n",
        "  #   break"
      ],
      "execution_count": null,
      "outputs": [
        {
          "output_type": "stream",
          "text": [
            "Guess the lucky number :1\n",
            "wrong guess, try again 2\n",
            "wrong guess, try again 4\n",
            "wrong guess, try again 5\n",
            "wrong guess, try again 6\n",
            "wrong guess, try again 7\n",
            "wrong guess, try again 8\n",
            "wrong guess, try again no\n",
            "Thanks for playing...\n"
          ],
          "name": "stdout"
        }
      ]
    },
    {
      "cell_type": "markdown",
      "metadata": {
        "id": "HxljGOXEMmZy",
        "colab_type": "text"
      },
      "source": [
        "####10.  Write a program that asks five times to guess the lucky number. Use a while loop and a counter, such as  \n",
        "```\n",
        "counter=1\n",
        "While counter <= 5:\n",
        "  print(“Type in the”, counter, “number”\n",
        "  counter=counter+1\n",
        "```\n",
        "The program asks for five guesses (no matter whether the correct number was guessed or not). If the correct number is guessed, the program outputs “Good guess!”, otherwise it outputs “Try again!”. After the fifth guess, it stops and prints “Game over!”.\n"
      ]
    },
    {
      "cell_type": "code",
      "metadata": {
        "id": "XanSHz70NWP2",
        "colab_type": "code",
        "colab": {
          "base_uri": "https://localhost:8080/",
          "height": 225
        },
        "outputId": "f3402aff-f9dc-4a44-d4fd-c2c854eccbc1"
      },
      "source": [
        "t0210_luckyNum = 4\n",
        "t0210_counter = 1\n",
        "while t0210_counter <= 5:\n",
        "  \n",
        "  t0210_guessNum = input (\"Guess the lucky number :\")\n",
        "\n",
        "  if t0210_guessNum == str(t0210_luckyNum):\n",
        "    print (\"Good guess!\")\n",
        "  elif t0210_guessNum !=str(t0210_luckyNum):\n",
        "    print (\"Try again!\")\n",
        " \n",
        "  if t0210_counter >= 5:\n",
        "    print (\"Game over\")\n",
        "  \n",
        "  t0210_counter += 1"
      ],
      "execution_count": null,
      "outputs": [
        {
          "output_type": "stream",
          "text": [
            "Guess the lucky number :1\n",
            "Try again!\n",
            "Guess the lucky number :4\n",
            "Good guess!\n",
            "Guess the lucky number :4\n",
            "Good guess!\n",
            "Guess the lucky number :1\n",
            "Try again!\n",
            "Game over\n",
            "Guess the lucky number :1\n",
            "Try again!\n",
            "Game over\n"
          ],
          "name": "stdout"
        }
      ]
    },
    {
      "cell_type": "markdown",
      "metadata": {
        "id": "SsWH94lZMmIa",
        "colab_type": "text"
      },
      "source": [
        "#### 11.  In the previous question, insert “break” after the “Good guess!” print statement. “break” will terminate the while loop so that users do not have to continue guessing after they found the number. If the user does not guess the number at all, print “Sorry but that was not very successful”.\n"
      ]
    },
    {
      "cell_type": "code",
      "metadata": {
        "id": "JfD_WIpIeVQI",
        "colab_type": "code",
        "colab": {
          "base_uri": "https://localhost:8080/",
          "height": 208
        },
        "outputId": "ddd933cc-cbe5-492d-ce12-22c3e9a80bae"
      },
      "source": [
        "t0211_luckyNum = 4\n",
        "t0211_counter = 1\n",
        "while t0211_counter <= 5:\n",
        "\n",
        "  t0211_guessNum = input (\"Guess the lucky number :\")\n",
        "  if t0211_guessNum == str(t0211_luckyNum):\n",
        "    print (\"Good guess! \\nbreak\")\n",
        "    break\n",
        "  elif t0211_guessNum !=str(t0211_luckyNum):\n",
        "    print (\"Try again!\")\n",
        " \n",
        "  if t0211_counter >= 5:\n",
        "    print (\"“Sorry but that was not very successful\")\n",
        "  t0211_counter += 1  "
      ],
      "execution_count": null,
      "outputs": [
        {
          "output_type": "stream",
          "text": [
            "Guess the lucky number :1\n",
            "Try again!\n",
            "Guess the lucky number :1\n",
            "Try again!\n",
            "Guess the lucky number :1\n",
            "Try again!\n",
            "Guess the lucky number :1\n",
            "Try again!\n",
            "Guess the lucky number :1\n",
            "Try again!\n",
            "“Sorry but that was not very successful\n"
          ],
          "name": "stdout"
        }
      ]
    },
    {
      "cell_type": "markdown",
      "metadata": {
        "id": "VchUx2EbMl4M",
        "colab_type": "text"
      },
      "source": [
        ""
      ]
    }
  ]
}