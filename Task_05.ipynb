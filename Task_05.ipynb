{
  "nbformat": 4,
  "nbformat_minor": 0,
  "metadata": {
    "colab": {
      "name": "Task_05.ipynb",
      "provenance": [],
      "collapsed_sections": [],
      "authorship_tag": "ABX9TyOu43B6V8Rmx5I6qhqytQQF",
      "include_colab_link": true
    },
    "kernelspec": {
      "name": "python3",
      "display_name": "Python 3"
    }
  },
  "cells": [
    {
      "cell_type": "markdown",
      "metadata": {
        "id": "view-in-github",
        "colab_type": "text"
      },
      "source": [
        "<a href=\"https://colab.research.google.com/github/pavanghai/Python_Task/blob/master/Task_05.ipynb\" target=\"_parent\"><img src=\"https://colab.research.google.com/assets/colab-badge.svg\" alt=\"Open In Colab\"/></a>"
      ]
    },
    {
      "cell_type": "markdown",
      "metadata": {
        "id": "0ao_-6BRXJji",
        "colab_type": "text"
      },
      "source": [
        "### Task FIVE: HIGHER ORDER FUNCTIONS, GENERATORS, LIST COMPREHENSION AND DECORATOR"
      ]
    },
    {
      "cell_type": "code",
      "metadata": {
        "id": "o6jb7AVyXdj5",
        "colab_type": "code",
        "colab": {}
      },
      "source": [
        "# 1. Write a program to Python find the values which is not divisible 3 but is\n",
        "# should be a multiple of 7. Make sure to use only higher order function.\n",
        "\n",
        "def t0501fun(n=50): # First order function\n",
        "    lis = list(map(int, range(1,n+1))) # creates a list of numbers using map and range\n",
        "    filterlis = list(filter(lambda x: (x%7 == 0 and x%3 != 0), lis)) # extracting only elements based on condition\n",
        "    return filterlis\n",
        "t0501fun(70)\n",
        "# Higher order function (Returns a reference to other fuction)\n",
        "def t0501HoFun (x, func):\n",
        "    return func(x)\n",
        "\n",
        "t0501HoFun(50,t0501fun)"
      ],
      "execution_count": null,
      "outputs": []
    },
    {
      "cell_type": "code",
      "metadata": {
        "id": "N3E3E_mFXmf6",
        "colab_type": "code",
        "colab": {}
      },
      "source": [
        "# 2. Write a program in Python to multiple the element of list by itself using a\n",
        "# traditional function and pass the function to map to complete the operation.\n",
        "   \n",
        "def t0502listGen (n):\n",
        "    '''\n",
        "    This function takes one argument, generates a list of numbers from 1 to the given number\n",
        "    '''\n",
        "    listGen = [* range(1,n+1)]\n",
        "    return listGen\n",
        "def t0502Mul (n):\n",
        "    return n*n\n",
        "    \n",
        "t0502list = t0502listGen(15)\n",
        "t0502MulList = list(map(t0502Mul,t0502list))\n",
        "\n",
        "print (t0502list)\n",
        "print (t0502MulList)\n",
        "\n",
        "print (\"\\n------Other Way------\\n\")\n",
        "\n",
        "def t0502ListMul (n=5):\n",
        "    listGen = [* range(1,n+1)]\n",
        "    print (listGen)\n",
        "\n",
        "    def mulList(n):\n",
        "        return n*n\n",
        "    return list(map(mulList,listGen))\n",
        "\n",
        "t0502ListMul(9)"
      ],
      "execution_count": null,
      "outputs": []
    },
    {
      "cell_type": "code",
      "metadata": {
        "id": "bBQBO0inXm2Z",
        "colab_type": "code",
        "colab": {}
      },
      "source": [
        "# 3. Write a program to Python find out the character in a string which is uppercase\n",
        "# using list comprehension.\n",
        "def t0503Upper (string = \"This is the String, I WaNt tO pRint uPPerCaSe\"):\n",
        "    t0503FindUpper = [i for i in string if i.isupper()]\n",
        "    t0503FindUpper = ''.join(t0503FindUpper)\n",
        "    t0503msg = f'''Upper Characters from the given string :- \"{string}\" is : \"{t0503FindUpper}\" '''\n",
        "    # print (t0503msg)\n",
        "    return t0503msg\n",
        "\n",
        "t0503Upper()"
      ],
      "execution_count": null,
      "outputs": []
    },
    {
      "cell_type": "code",
      "metadata": {
        "id": "0FWywg2xXnD0",
        "colab_type": "code",
        "colab": {}
      },
      "source": [
        "# 4. Write a program to construct a dictionary from the two lists containing the\n",
        "# names of students and their corresponding subjects. The dictionary should maps\n",
        "# the students with their respective subjects. Let’s see how to do this using for\n",
        "# loops and dictionary comprehension. HINT-Use Zip function also\n",
        "# ● Student = ['Smit', 'Jaya', 'Rayyan']\n",
        "# ● capital = ['CSE', 'Networking', 'Operating System']\n",
        "\n",
        "student = ['Smit', 'Jaya', 'Rayyan']\n",
        "capital = ['CSE', 'Networking', 'Operating System']\n",
        "x= zip(student,capital)\n",
        "print(dict(x))"
      ],
      "execution_count": null,
      "outputs": []
    },
    {
      "cell_type": "code",
      "metadata": {
        "id": "GEwrByvcXmrJ",
        "colab_type": "code",
        "colab": {}
      },
      "source": [
        "# 5. Learn More about Yield, next and Generators\n",
        "t0505GenMsg = '''\n",
        "Generators are used when you dont want to block memories, \n",
        "many a times when you work on big data, you may get memory error, \n",
        "to over come this we user Generators. Generator produces results when needed, \n",
        "they are able to suspend and resume their execution around the point of \n",
        "value generation, they return generator object that is an iterator\n",
        "'''\n",
        "t0505YieldMsg = '''\n",
        "yield is a keyword that are used in generator function to retunn the output\n",
        "in a step way (iteration) \n",
        "you can have multipal yield menthod within a generator function, but\n",
        "can have only one return method\n",
        "yield will give output one by one, Return will give final output\n",
        "'''\n",
        "t0505nextMsg = '''\n",
        "Next is used along with yield. It is used in outside the generator function \n",
        "to call an item one at a time. when an last item is retrived \n",
        "it will through an error (Stopiteration Error)\n",
        "'''\n",
        "\n",
        "t0505list = t0502listGen(5)\n",
        "\n",
        "print (\"Normal function without generator\")\n",
        "def t0505squareNum (numbers):\n",
        "    sq_list = []\n",
        "    for num in numbers:\n",
        "        sq_list.append(num**2)\n",
        "    return sq_list\n",
        "result = t0505squareNum(t0505list)\n",
        "print (\"Original list :\",t0505list)\n",
        "print (\"Square list   :\",result)\n",
        "\n",
        "print (\"\\nFunction with generator\")\n",
        "def t0505squareNumGen (numbers):\n",
        "    # sq_list = [] # not required \n",
        "    for num in numbers:\n",
        "        yield num**2 \n",
        "\n",
        "result1 = t0505squareNumGen(t0505list)\n",
        "# print (\"Original list :\",t0505list)\n",
        "print (result1)\n",
        "# print (\"Method 1 to get items from the generator using for Loop\")\n",
        "# for num in result1:\n",
        "#     print (num, end=\" \")\n",
        "# print (\"\\nMethod 2 to get items from the generator using list function\")\n",
        "# print (list(result1))\n",
        "print (\"\\nMethod 3 to get items from the generator using next function\")\n",
        "print (next(result1))\n",
        "print (next(result1))\n",
        "print (next(result1))\n",
        "\n",
        "print (\"\\nanother method to define a generator using list comprehension\\n\")\n",
        "t0505ListComp = [i**2 for i in range(1,(5+1))] # giving (5+1) as we need 5\n",
        "print (t0505ListComp, \"Not a Generator\")\n",
        "t0505ListComp = (i**2 for i in range(1,(5+1))) # using () to make Generator\n",
        "print (t0505ListComp, \"This is Generator\")\n",
        "print (\"\\nNow how to call values? use next\")\n",
        "print (next(t0505ListComp), \"Element from Generator\")\n",
        "print (next(t0505ListComp), \"Element from Generator\")\n",
        "print (next(t0505ListComp), \"Element from Generator\")"
      ],
      "execution_count": null,
      "outputs": []
    },
    {
      "cell_type": "code",
      "metadata": {
        "id": "_gEn8g17XmTo",
        "colab_type": "code",
        "colab": {}
      },
      "source": [
        "# 6. Write a program in Python using generators to reverse the string. Input\n",
        "# String = “Consultadd Training”\n",
        "def t0506string (string = 'Consultadd Training'):\n",
        "    string = 'Consultadd Training'\n",
        "    x = iter(string[::-1])\n",
        "    for i in range(len(string)):\n",
        "        print (next(x),end=\"\")\n",
        "t0506string()"
      ],
      "execution_count": null,
      "outputs": []
    },
    {
      "cell_type": "code",
      "metadata": {
        "id": "DrK13UR9X9sY",
        "colab_type": "code",
        "colab": {}
      },
      "source": [
        "# 7. Write any example on decorators.\n",
        "def add_num_decorate(func):\n",
        "    def wrap_add_num(i,j):\n",
        "        print (\"Before add num\")\n",
        "        print (\"sum = \", func(i,j))\n",
        "        print (\"After add num\")\n",
        "    return wrap_add_num\n",
        "\n",
        "@add_num_decorate\n",
        "def add_num(i,j): # add two numbers\n",
        "    return i+j\n",
        "add_num(10,25)\n",
        "print(\"-----------------------\")\n",
        "# Decorator for HTML \n",
        "def add_num_decorate(func):\n",
        "    def wrap_add_num():\n",
        "        print (\"<p>\")\n",
        "        print (func())\n",
        "        print (\"/<p>\")\n",
        "    return wrap_add_num\n",
        "\n",
        "@add_num_decorate\n",
        "def add_num(): # add two numbers\n",
        "    return \"This is an artical in HTML\"\n",
        "add_num()"
      ],
      "execution_count": null,
      "outputs": []
    },
    {
      "cell_type": "code",
      "metadata": {
        "id": "dSqa4MdQX96i",
        "colab_type": "code",
        "colab": {}
      },
      "source": [
        "# 8. Learn about What is FRONT END and its Technologies and Tools\n",
        "# ● Make sure to mention at least 5 top notch technologies of Frontend.\n",
        "# ● Also mentioned the name of companies using those 5 technologies\n",
        "# individually\n",
        "t0508FrontendMsg = '''\n",
        "Interaction with the end used either on the App or \n",
        "on web is called Front End.\n",
        "'''\n",
        "t0508FrontendToolMsg = '''\n",
        "HTML, CSS, JavaScript, Angular, React, Django, \n",
        "Ember.js, .net, Chrome DevTools\n",
        "'''\n",
        "t0508FrontendIndUseMsg = '''\n",
        "Amazon: Java, AngularJS, Perl. \n",
        "Facebook: PHP, React, GraphQl, Swift,JSON\n",
        "Uber: JavaScript, React\n",
        "Slack: JavaScript\n",
        "Airbnb: JavaScript, React\n",
        "'''\n",
        "t0508DjangoUserMsg = '''\n",
        "Disqus, Instagram, Bitbucket, youtube, spotify, dropbox\n",
        "'''"
      ],
      "execution_count": null,
      "outputs": []
    }
  ]
}