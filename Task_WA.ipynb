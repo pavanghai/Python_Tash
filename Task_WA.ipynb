{
  "nbformat": 4,
  "nbformat_minor": 0,
  "metadata": {
    "colab": {
      "name": "Task_WA.ipynb",
      "provenance": [],
      "collapsed_sections": [],
      "authorship_tag": "ABX9TyPziFQEYZ4VwPD+igcisoXb",
      "include_colab_link": true
    },
    "kernelspec": {
      "name": "python3",
      "display_name": "Python 3"
    }
  },
  "cells": [
    {
      "cell_type": "markdown",
      "metadata": {
        "id": "view-in-github",
        "colab_type": "text"
      },
      "source": [
        "<a href=\"https://colab.research.google.com/github/pavanghai/Python_Tash/blob/master/Task_WA.ipynb\" target=\"_parent\"><img src=\"https://colab.research.google.com/assets/colab-badge.svg\" alt=\"Open In Colab\"/></a>"
      ]
    },
    {
      "cell_type": "markdown",
      "metadata": {
        "id": "1pwcggx8_UuT",
        "colab_type": "text"
      },
      "source": [
        "###WEEKEND ACTIVITY ON DATA STRUCTURES"
      ]
    },
    {
      "cell_type": "code",
      "metadata": {
        "id": "AS0Wrl4iHKdd",
        "colab_type": "code",
        "colab": {}
      },
      "source": [
        "# 1.Create a list of the 10 elements of four different types of Data Types like int, string, complex, and float.\n",
        "t_wa01_list = [2, 'numbers',10j, 5.5, 'from', 10 , 20, 30.5, 20.5, 50j]"
      ],
      "execution_count": null,
      "outputs": []
    },
    {
      "cell_type": "code",
      "metadata": {
        "id": "dRjpAcjwHKZm",
        "colab_type": "code",
        "colab": {}
      },
      "source": [
        "# 2. Create a list of size 5 and execute the slicing structure\n",
        "t_wa02_list = range(10,51,10)\n",
        "t_wa02_list = list(t_wa02_list)\n",
        "print (t_wa02_list, \": full list without indexing\")\n",
        "print (t_wa02_list[:], \": full list using blank index\")\n",
        "print (t_wa02_list[1:3], \": list using start and end index\")\n",
        "print (t_wa02_list[::2], \": full list using blank index, skiping 1 value\")"
      ],
      "execution_count": null,
      "outputs": []
    },
    {
      "cell_type": "code",
      "metadata": {
        "id": "3uTgHnnRHKWQ",
        "colab_type": "code",
        "colab": {
          "base_uri": "https://localhost:8080/",
          "height": 117
        },
        "outputId": "28665dfc-3f80-4631-d871-d73e5b0bad14"
      },
      "source": [
        "# 3. Create a list of given structure and \n",
        "# run x=[100,200,300,400,500,[1,2,3,4,5,[10,20,30,40,50],6,7,8,9],600,700,800] \n",
        "# Access list [1, 2, 3, 4] Access list [600, 700] Access list [100, 300, 500, 600, 800] \n",
        "# Access list [[800, 700, 600, [1, 2, 3, 4, 5, [10, 20, 30, 40, 50], 6, 7, 8, 9], 500, 400, 300, 200, 100]] \n",
        "# Access list [10] Access list [ ]\n",
        "t_wa03_list = [100,200,300,400,500,[1,2,3,4,5,[10,20,30,40,50],6,7,8,9],600,700,800]\n",
        "print (t_wa03_list[5][:4])\n",
        "print (t_wa03_list[6:8])\n",
        "print (t_wa03_list[::2])\n",
        "print (t_wa03_list[::-1])\n",
        "print (t_wa03_list[5][5][0])\n",
        "print (t_wa03_list)"
      ],
      "execution_count": null,
      "outputs": [
        {
          "output_type": "stream",
          "text": [
            "[1, 2, 3, 4]\n",
            "[600, 700]\n",
            "[100, 300, 500, 600, 800]\n",
            "[800, 700, 600, [1, 2, 3, 4, 5, [10, 20, 30, 40, 50], 6, 7, 8, 9], 500, 400, 300, 200, 100]\n",
            "10\n",
            "[100, 200, 300, 400, 500, [1, 2, 3, 4, 5, [10, 20, 30, 40, 50], 6, 7, 8, 9], 600, 700, 800]\n"
          ],
          "name": "stdout"
        }
      ]
    },
    {
      "cell_type": "code",
      "metadata": {
        "id": "80-Q6NECHKSo",
        "colab_type": "code",
        "colab": {
          "base_uri": "https://localhost:8080/",
          "height": 83
        },
        "outputId": "24eb7da8-8315-4cd1-d1cc-ee6c0ec2c7c5"
      },
      "source": [
        "# 4.Create a list of thousand numbers using range and xrange and see the difference between each other.\n",
        "t_wa04_msg = ''' python 3 Range is same as xrange in python 2.7 and below\n",
        "'''\n",
        "print (t_wa04_msg)\n",
        "t_wa04_listRang = [*range(1,1001)]\n",
        "print (len(t_wa04_listRang), \"\\nDont want to use 1000 numbers so using len function\") "
      ],
      "execution_count": null,
      "outputs": [
        {
          "output_type": "stream",
          "text": [
            " python 3 Range is same as xrange in python 2.7 and below\n",
            "\n",
            "1000 \n",
            "Dont want to use 1000 numbers so using len function\n"
          ],
          "name": "stdout"
        }
      ]
    },
    {
      "cell_type": "code",
      "metadata": {
        "id": "ZgG_DUUQHKPW",
        "colab_type": "code",
        "colab": {
          "base_uri": "https://localhost:8080/",
          "height": 33
        },
        "outputId": "ece76d43-51e7-4dc1-bab9-bd137e8f6e4a"
      },
      "source": [
        "# 5. How Tuple is beneficial as compared to the list?\n",
        "t_wa05_msg = ''' Since tuples are immutable Its faster to performe and lists are mutable '''\n",
        "print (t_wa05_msg)"
      ],
      "execution_count": null,
      "outputs": [
        {
          "output_type": "stream",
          "text": [
            " Since tuples are immutable Its faster to performe and lists are mutable \n"
          ],
          "name": "stdout"
        }
      ]
    },
    {
      "cell_type": "code",
      "metadata": {
        "id": "SRkc7T4hHKL8",
        "colab_type": "code",
        "colab": {}
      },
      "source": [
        "# 6. Write a program in Python to iterate through the list of numbers in the \n",
        "# range of 1,100 and print the number which is divisible by 3 and a multiple of 2.\n",
        "t_wa06_list = [*range(1,101)]\n",
        "# for i in range(t_wa06_list):\n",
        "#   if t_wa06_list[i] % 3==0:\n",
        "#     print (t_wa06_list[i], \" is divisible by 3\")\n",
        "\n",
        "for i in range(1,101):\n",
        "  if i % 3==0:\n",
        "    print (i, \" is divisible by 3\")\n",
        "  elif i % 2==0:\n",
        "    print (i, \" is multiple of 2\") "
      ],
      "execution_count": null,
      "outputs": []
    },
    {
      "cell_type": "code",
      "metadata": {
        "id": "6CvKy_yAHKH5",
        "colab_type": "code",
        "colab": {
          "base_uri": "https://localhost:8080/",
          "height": 51
        },
        "outputId": "fb777533-fa28-499b-f1f7-a04fb71122a1"
      },
      "source": [
        "# 7. Write a program in Python to reverse a string and print only the vowel \n",
        "# alphabet if it exists in the string with their index.\n",
        "t_wa07_inputString = input(\"Enter a String :\")\n",
        "t_wa07_inputString [::-1]\n",
        "t_wa07_vowal = ['aeiouAEIOU']\n",
        "for i in t_wa07_inputString:\n",
        "  print (t_wa07_vowal,end=\" \")"
      ],
      "execution_count": null,
      "outputs": [
        {
          "output_type": "stream",
          "text": [
            "Enter a String :This is a StRRING\n",
            "T h i s   i s   a   S t R R I N G "
          ],
          "name": "stdout"
        }
      ]
    },
    {
      "cell_type": "code",
      "metadata": {
        "id": "q_p0gXbwHKD9",
        "colab_type": "code",
        "colab": {}
      },
      "source": [
        "# 8. Write a program in Python to iterate through the \n",
        "# string “hello my name is Abcde” and print the string which has even length of the word."
      ],
      "execution_count": null,
      "outputs": []
    },
    {
      "cell_type": "code",
      "metadata": {
        "id": "43wAGvzCHJ0z",
        "colab_type": "code",
        "colab": {}
      },
      "source": [
        "# 9. Write a program in python to print the pair of numbers whose sum is equal \n",
        "# to result number that is let's say 8. x=[1,2,3,4,5,6,7,8,9,-1]"
      ],
      "execution_count": null,
      "outputs": []
    },
    {
      "cell_type": "code",
      "metadata": {
        "id": "P-GwLSlBH6gM",
        "colab_type": "code",
        "colab": {}
      },
      "source": [
        "'''\n",
        "10. Write a program in Python to complete the following task: Create two different \n",
        "lists as in even_list and odd_list Ask the user to enter the number in the \n",
        "range of 1,50 and make sure if the entered number is even appended it to the \n",
        "even_list and if the entered number is odd append it to the odd list. Keep that \n",
        "in mind you can only add 5 items in each list Make sure once you entered the total \n",
        "5 elements calculate the sum of the list and return the maximum out of the list.\n",
        "'''"
      ],
      "execution_count": null,
      "outputs": []
    },
    {
      "cell_type": "code",
      "metadata": {
        "id": "LwduJI4OH6Tg",
        "colab_type": "code",
        "colab": {}
      },
      "source": [
        "'''\n",
        "11. Write a program to find out the occurrence of a specific word from an \n",
        "alphanumeric statement. Example: 12abcbacbaba344ab\n",
        "\n",
        "          Output: a=5 b=5 c=2 make sure you should avoid the numbers in you logic\n",
        "'''"
      ],
      "execution_count": null,
      "outputs": []
    },
    {
      "cell_type": "code",
      "metadata": {
        "id": "cVoKGTK9IV7k",
        "colab_type": "code",
        "colab": {}
      },
      "source": [
        "# 12. Generate and print another tuple whose values are even numbers in the given tuple (1,2,3,4,5,6,7,8,9,10)."
      ],
      "execution_count": null,
      "outputs": []
    },
    {
      "cell_type": "markdown",
      "metadata": {
        "id": "wSwtfgUN_KKv",
        "colab_type": "text"
      },
      "source": [
        ""
      ]
    }
  ]
}