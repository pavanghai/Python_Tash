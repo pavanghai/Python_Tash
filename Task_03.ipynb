{
  "nbformat": 4,
  "nbformat_minor": 0,
  "metadata": {
    "colab": {
      "name": "Task_03.ipynb",
      "provenance": [],
      "collapsed_sections": [],
      "authorship_tag": "ABX9TyNzOMb3eCrgrFKJQJUKRx4C",
      "include_colab_link": true
    },
    "kernelspec": {
      "name": "python3",
      "display_name": "Python 3"
    }
  },
  "cells": [
    {
      "cell_type": "markdown",
      "metadata": {
        "id": "view-in-github",
        "colab_type": "text"
      },
      "source": [
        "<a href=\"https://colab.research.google.com/github/pavanghai/Python_Tash/blob/master/Task_03.ipynb\" target=\"_parent\"><img src=\"https://colab.research.google.com/assets/colab-badge.svg\" alt=\"Open In Colab\"/></a>"
      ]
    },
    {
      "cell_type": "markdown",
      "metadata": {
        "id": "YPDjdBh1_fZf",
        "colab_type": "text"
      },
      "source": [
        "###TASK THREE: DATA STRUCTURES"
      ]
    },
    {
      "cell_type": "code",
      "metadata": {
        "id": "zUJ1MzNogNGm",
        "colab_type": "code",
        "colab": {
          "base_uri": "https://localhost:8080/",
          "height": 34
        },
        "outputId": "a3c58650-0d1f-459d-e4a0-76d73c12e762"
      },
      "source": [
        "# 1. Create a list of the 10 elements of four different types of Data Types like int, string, complex, and float.\n",
        "t0301_list = [2, 'numbers',10j, 5.5, 'from', 10 , 20, 30.5, 20.5, 50j]\n",
        "# type(t0301_list[-1])\n",
        "# len(t0301_list)"
      ],
      "execution_count": null,
      "outputs": [
        {
          "output_type": "execute_result",
          "data": {
            "text/plain": [
              "10"
            ]
          },
          "metadata": {
            "tags": []
          },
          "execution_count": 63
        }
      ]
    },
    {
      "cell_type": "code",
      "metadata": {
        "id": "TXYlxpE3gM6O",
        "colab_type": "code",
        "colab": {
          "base_uri": "https://localhost:8080/",
          "height": 86
        },
        "outputId": "4e11760f-f25c-416f-a226-af76d30de8d5"
      },
      "source": [
        "# 2. Create a list of size 5 and execute the slicing structure\n",
        "t0302_list = range(10,51,10)\n",
        "t0302_list = list(t0302_list)\n",
        "print (t0302_list, \": full list without indexing\")\n",
        "print (t0302_list[:], \": full list using blank index\")\n",
        "print (t0302_list[1:3], \": list using start and end index\")\n",
        "print (t0302_list[::2], \": full list using blank index, skiping 1 value\")"
      ],
      "execution_count": null,
      "outputs": [
        {
          "output_type": "stream",
          "text": [
            "[10, 20, 30, 40, 50] : full list without indexing\n",
            "[10, 20, 30, 40, 50] : full list using blank index\n",
            "[20, 30] : list using start and end index\n",
            "[10, 30, 50] : full list using blank index, skiping 1 value\n"
          ],
          "name": "stdout"
        }
      ]
    },
    {
      "cell_type": "code",
      "metadata": {
        "id": "Vg1uvsTSgMtg",
        "colab_type": "code",
        "colab": {
          "base_uri": "https://localhost:8080/",
          "height": 52
        },
        "outputId": "b045d7ca-a289-4959-ab4e-dc1246635404"
      },
      "source": [
        "# 3. Write a program to get the sum and multiply of all the items in a given list.\n",
        "t0303_list = [*range(1,11,1)] # use argument-unpacking operator i.e. *\n",
        "t0303_add = 0 ; t0303_multiply = 1\n",
        "\n",
        "for i in t0303_list:\n",
        "  t0303_add +=i \n",
        "  t0303_multiply *=i\n",
        "\n",
        "print (\"Sum of all numbers in the list is \",t0303_add)\n",
        "print (\"Multiple of all numbers in the list is \",t0303_multiply)"
      ],
      "execution_count": null,
      "outputs": [
        {
          "output_type": "stream",
          "text": [
            "Sum of all numbers in the list is  55\n",
            "Multiple of all numbers in the list is  3628800\n"
          ],
          "name": "stdout"
        }
      ]
    },
    {
      "cell_type": "code",
      "metadata": {
        "id": "3u0MzGThgaIW",
        "colab_type": "code",
        "colab": {
          "base_uri": "https://localhost:8080/",
          "height": 34
        },
        "outputId": "d62d2f76-9854-4cdb-aa06-2a4e74a6163d"
      },
      "source": [
        "# 4. Find the largest and smallest number from a given list.\n",
        "t0304_minMax = [*range(3,27,3)]\n",
        "t0304_min = min(t0304_minMax) ; t0304_max = max(t0304_minMax)\n",
        "print (\"Largest # is\",t0304_max,\"and Smallest # is\",t0304_min ,\"from the list\")"
      ],
      "execution_count": null,
      "outputs": [
        {
          "output_type": "stream",
          "text": [
            "Largest # is 24 and Smallest # is 3 from the list\n"
          ],
          "name": "stdout"
        }
      ]
    },
    {
      "cell_type": "code",
      "metadata": {
        "id": "O20ta3npgZ-H",
        "colab_type": "code",
        "colab": {
          "base_uri": "https://localhost:8080/",
          "height": 52
        },
        "outputId": "9c048087-0033-45f3-9598-86b98fb90b96"
      },
      "source": [
        "# 5. Create a new list that contains the specified numbers after removing the even numbers from a predefined list.\n",
        "t0305_list = [*range(1,21,1)]\n",
        "t0305_nonEven = []\n",
        "for i in t0305_list:\n",
        "  if i%2 != 0:\n",
        "    t0305_nonEven.append(i)\n",
        "    # print (i,'is an odd number')\n",
        "print (\"Original list: \",t0305_list)\n",
        "print (\"After removing even numbers :\",t0305_nonEven)"
      ],
      "execution_count": null,
      "outputs": [
        {
          "output_type": "stream",
          "text": [
            "Original list:  [1, 2, 3, 4, 5, 6, 7, 8, 9, 10, 11, 12, 13, 14, 15, 16, 17, 18, 19, 20]\n",
            "After removing even numbers : [1, 3, 5, 7, 9, 11, 13, 15, 17, 19]\n"
          ],
          "name": "stdout"
        }
      ]
    },
    {
      "cell_type": "code",
      "metadata": {
        "id": "cVCh_dyvgZ11",
        "colab_type": "code",
        "colab": {
          "base_uri": "https://localhost:8080/",
          "height": 69
        },
        "outputId": "db256b32-7f08-4f1a-b655-950e27f4e755"
      },
      "source": [
        "# 6. Create a list of first and last 5 elements where the values are square of numbers between 1 and 30 (both included).\n",
        "t0306_list = [*range(1,31,1)] ; t0306_sqrVal = []\n",
        "# by Cheating  NEED Better WAY\n",
        "for i in range(1,8):\n",
        "  t0306_sqrVal.append(i**2)\n",
        "t0306_diff = list (set (t0306_list) & set(t0306_sqrVal))\n",
        "\n",
        "print (t0306_list)\n",
        "print (t0306_sqrVal)\n",
        "print (t0306_diff)\n",
        " "
      ],
      "execution_count": null,
      "outputs": [
        {
          "output_type": "stream",
          "text": [
            "[1, 2, 3, 4, 5, 6, 7, 8, 9, 10, 11, 12, 13, 14, 15, 16, 17, 18, 19, 20, 21, 22, 23, 24, 25, 26, 27, 28, 29, 30]\n",
            "[1, 4, 9, 16, 25, 36, 49]\n",
            "[1, 4, 9, 16, 25]\n"
          ],
          "name": "stdout"
        }
      ]
    },
    {
      "cell_type": "code",
      "metadata": {
        "id": "o3A5oFFwgZmm",
        "colab_type": "code",
        "colab": {
          "base_uri": "https://localhost:8080/",
          "height": 33
        },
        "outputId": "6fc0415e-b3de-4450-87e9-c562d2241606"
      },
      "source": [
        "# 7. Write a program to replace the last element in a list with another list. \n",
        "# Sample data: [[1,3,5,7,9,10],[2,4,6,8]] Expected output: [1,3,5,7,9,2,4,6,8]\n",
        "t0307_list = [*range(1,15,2)] ; t0307_listNew = [*range(21,26)]\n",
        "t0307_listOut =  t0307_list[:-1] + t0307_listNew\n",
        "t0307_listOut"
      ],
      "execution_count": null,
      "outputs": [
        {
          "output_type": "execute_result",
          "data": {
            "text/plain": [
              "[1, 3, 5, 7, 9, 11, 21, 22, 23, 24, 25]"
            ]
          },
          "metadata": {
            "tags": []
          },
          "execution_count": 77
        }
      ]
    },
    {
      "cell_type": "code",
      "metadata": {
        "id": "FfeRkuergqMv",
        "colab_type": "code",
        "colab": {
          "base_uri": "https://localhost:8080/",
          "height": 33
        },
        "outputId": "9ecd077d-fa94-4b7a-f3bc-f47db9b39e46"
      },
      "source": [
        "# 8. Create a new dictionary by concatenating the following two \n",
        "# dictionaries: a={1:10,2:20} b={3:30,4:40} Expected Result: {1:10,2:20,3:30,4:40}\n",
        "t0308_dict_a = {1:10,2:20} ; t0308_dict_b={3:30,4:40}\n",
        "t0308_dict_a.update(t0308_dict_b)\n",
        "# print (t0308_dict_a, t0308_dict_b, t0308_dict_new)\n",
        "t0308_dict_a\n"
      ],
      "execution_count": null,
      "outputs": [
        {
          "output_type": "execute_result",
          "data": {
            "text/plain": [
              "{1: 10, 2: 20, 3: 30, 4: 40}"
            ]
          },
          "metadata": {
            "tags": []
          },
          "execution_count": 85
        }
      ]
    },
    {
      "cell_type": "code",
      "metadata": {
        "id": "MO2oQao5gqFB",
        "colab_type": "code",
        "colab": {
          "base_uri": "https://localhost:8080/",
          "height": 50
        },
        "outputId": "0723fb34-0e06-4cb1-b579-bac4c4052384"
      },
      "source": [
        "# 9. Create a dictionary that contains a number (between 1 and n) in the form(x,x*x). \n",
        "# Sample data (n=5) Expected Output: {1:1,2:4,3:9,4:16,5:25}\n",
        "t0309_num = int(input(\"Enter a Number less then 10 :\"))\n",
        "# t0309_dict = {1:1}\n",
        "for i in range (t0309_num):\n",
        "  # if i == t0309_num-1:\n",
        "  #   print (\"Break\", i)\n",
        "  #   break\n",
        "  # print (i+2)\n",
        "  t0309_dict.update({i+1:(i+1)**2})\n",
        "t0309_dict"
      ],
      "execution_count": null,
      "outputs": [
        {
          "output_type": "stream",
          "text": [
            "Enter a Number less then 10 :10\n"
          ],
          "name": "stdout"
        },
        {
          "output_type": "execute_result",
          "data": {
            "text/plain": [
              "{1: 1, 2: 4, 3: 9, 4: 16, 5: 25, 6: 36, 7: 49, 8: 64, 9: 81, 10: 100}"
            ]
          },
          "metadata": {
            "tags": []
          },
          "execution_count": 94
        }
      ]
    },
    {
      "cell_type": "code",
      "metadata": {
        "id": "fCW3Pvohgp8P",
        "colab_type": "code",
        "colab": {
          "base_uri": "https://localhost:8080/",
          "height": 67
        },
        "outputId": "3862477b-b060-457a-8b68-ef224a6bafd5"
      },
      "source": [
        "# 10. Write a program which accepts a sequence of comma-separated numbers from the \n",
        "# console and generate a list and a tuple which contains every number. \n",
        "# Suppose the following input is supplied to the program: 34,67,55,33,12,98 \n",
        "# The output should be: [‘34’,’67’,’55’,’33’,’12’,’98’] (‘34’,’67’,’55’,’33’,’12’,’98’)\n",
        "t0310_inputNum = eval(input(\"Enter sequence of comma-separated numbers :\"))\n",
        "# print (type(t0310_inputNum),t0310_inputNum )\n",
        "# print (len(t0310_inputNum))\n",
        "t0310_tup = () ; t0310_list=[]\n",
        "for i in range (len(t0310_inputNum)):\n",
        "  # print (f\"'{i}'\")\n",
        "  t0310_list.append(str(t0310_inputNum[i]))\n",
        "  # t0310_tup.insert(str(t0310_inputNum[i]))\n",
        "\n",
        "t0310_tup = tuple(t0310_list)\n",
        "print (t0310_list)\n",
        "print (t0310_tup)"
      ],
      "execution_count": null,
      "outputs": [
        {
          "output_type": "stream",
          "text": [
            "Enter sequence of comma-separated numbers :45,32,12,33,56\n",
            "['45', '32', '12', '33', '56']\n",
            "('45', '32', '12', '33', '56')\n"
          ],
          "name": "stdout"
        }
      ]
    }
  ]
}